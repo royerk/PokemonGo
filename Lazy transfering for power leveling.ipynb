{
 "cells": [
  {
   "cell_type": "code",
   "execution_count": 9,
   "metadata": {
    "collapsed": true
   },
   "outputs": [],
   "source": [
    "import seaborn as sns\n",
    "import matplotlib.pyplot as plt\n",
    "\n",
    "import pandas as pd\n",
    "\n",
    "from math import sqrt, floor\n",
    "from random import randint\n",
    "\n",
    "%matplotlib inline\n",
    "sns.set(style=\"ticks\")"
   ]
  },
  {
   "cell_type": "code",
   "execution_count": 2,
   "metadata": {
    "collapsed": true
   },
   "outputs": [],
   "source": [
    "def compute_CP(level):\n",
    "    base_stamina = 80\n",
    "    base_attack = 85\n",
    "    base_defense = 76\n",
    "    \n",
    "    total_cp_multiplier = 0.095 * sqrt(level*2)\n",
    "    \n",
    "    stamina = (base_stamina + randint(0,15)) * total_cp_multiplier\n",
    "    attack = (base_attack + randint(0,15)) * total_cp_multiplier\n",
    "    defense = (base_defense + randint(0,15)) * total_cp_multiplier\n",
    "    \n",
    "    cp = max(10, floor(sqrt(stamina) * attack * sqrt(defense) / 10))\n",
    "    return cp"
   ]
  },
  {
   "cell_type": "code",
   "execution_count": 13,
   "metadata": {
    "collapsed": true
   },
   "outputs": [],
   "source": [
    "cp_all = []\n",
    "n_random_mon = 10000\n",
    "for level in range(1, 20+1):\n",
    "    for i in range(n_random_mon):\n",
    "        cp_all.append(compute_CP(level))"
   ]
  },
  {
   "cell_type": "code",
   "execution_count": 14,
   "metadata": {},
   "outputs": [
    {
     "data": {
      "text/plain": [
       "<matplotlib.axes._subplots.AxesSubplot at 0x7f9a060a8da0>"
      ]
     },
     "execution_count": 14,
     "metadata": {},
     "output_type": "execute_result"
    },
    {
     "data": {
      "image/png": "[encoded data removed]",
      "text/plain": [
       "<matplotlib.figure.Figure at 0x7f9a060a80b8>"
      ]
     },
     "metadata": {},
     "output_type": "display_data"
    }
   ],
   "source": [
    "sns.distplot(cp_all, axlabel=\"CP\")"
   ]
  },
  {
   "cell_type": "code",
   "execution_count": 15,
   "metadata": {},
   "outputs": [
    {
     "name": "stdout",
     "output_type": "stream",
     "text": [
      "To make 75 evolutions you need 825 candies.\n"
     ]
    }
   ],
   "source": [
    "n_evolutions = 75\n",
    "n_candies = 75 * 12 - 75\n",
    "print(\"To make {} evolutions you need {} candies.\".format(n_evolutions, n_candies))"
   ]
  },
  {
   "cell_type": "code",
   "execution_count": 16,
   "metadata": {
    "collapsed": true
   },
   "outputs": [],
   "source": [
    "min_cp = 10\n",
    "max_cp = 265"
   ]
  },
  {
   "cell_type": "code",
   "execution_count": 33,
   "metadata": {},
   "outputs": [
    {
     "name": "stdout",
     "output_type": "stream",
     "text": [
      "With ananas => keep 1 (6 candies), transfer 1 (7 candies).\n",
      "Homogeneous distribution of cps between 10 and 265 => keep below cp 138 else transfer.\n"
     ]
    }
   ],
   "source": [
    "keep = 1\n",
    "transfer = 1\n",
    "print('With ananas => keep {} ({} candies), transfer {} ({} candies).'.format(keep,\n",
    "                                                                                keep*6,\n",
    "                                                                                transfer,\n",
    "                                                                                transfer*6+transfer))\n",
    "ratio = transfer / (keep+transfer)\n",
    "print(\"Homogeneous distribution of cps between {} and {} => keep below cp {} else transfer.\".format(min_cp, \n",
    "                                                                                                 max_cp, \n",
    "                                                                                                 round((min_cp+max_cp)*ratio)))"
   ]
  },
  {
   "cell_type": "code",
   "execution_count": 32,
   "metadata": {},
   "outputs": [
    {
     "name": "stdout",
     "output_type": "stream",
     "text": [
      "Without ananas => keep 1 (3 candies), transfer 3 (12 candies).\n",
      "Homogeneous distribution of cps between 10 and 265 => keep below cp 206 else transfer.\n"
     ]
    }
   ],
   "source": [
    "keep = 1\n",
    "transfer = 3\n",
    "print('Without ananas => keep {} ({} candies), transfer {} ({} candies).'.format(keep,\n",
    "                                                                                keep*3,\n",
    "                                                                                transfer,\n",
    "                                                                                transfer*3+transfer))\n",
    "ratio = transfer / (keep+transfer)\n",
    "print(\"Homogeneous distribution of cps between {} and {} => keep below cp {} else transfer.\".format(min_cp, \n",
    "                                                                                                 max_cp, \n",
    "                                                                                                 round((min_cp+max_cp)*ratio)))"
   ]
  },
  {
   "cell_type": "code",
   "execution_count": 11,
   "metadata": {},
   "outputs": [
    {
     "data": {
      "text/html": [
       "<div>\n",
       "<style>\n",
       "    .dataframe thead tr:only-child th {\n",
       "        text-align: right;\n",
       "    }\n",
       "\n",
       "    .dataframe thead th {\n",
       "        text-align: left;\n",
       "    }\n",
       "\n",
       "    .dataframe tbody tr th {\n",
       "        vertical-align: top;\n",
       "    }\n",
       "</style>\n",
       "<table border=\"1\" class=\"dataframe\">\n",
       "  <thead>\n",
       "    <tr style=\"text-align: right;\">\n",
       "      <th></th>\n",
       "      <th>0</th>\n",
       "      <th>1</th>\n",
       "      <th>2</th>\n",
       "      <th>3</th>\n",
       "      <th>4</th>\n",
       "      <th>5</th>\n",
       "      <th>6</th>\n",
       "      <th>7</th>\n",
       "      <th>8</th>\n",
       "      <th>9</th>\n",
       "      <th>...</th>\n",
       "      <th>11</th>\n",
       "      <th>12</th>\n",
       "      <th>13</th>\n",
       "      <th>14</th>\n",
       "      <th>15</th>\n",
       "      <th>16</th>\n",
       "      <th>17</th>\n",
       "      <th>18</th>\n",
       "      <th>19</th>\n",
       "      <th>20</th>\n",
       "    </tr>\n",
       "  </thead>\n",
       "  <tbody>\n",
       "    <tr>\n",
       "      <th>0</th>\n",
       "      <td>10</td>\n",
       "      <td>14</td>\n",
       "      <td>29</td>\n",
       "      <td>45</td>\n",
       "      <td>53</td>\n",
       "      <td>76</td>\n",
       "      <td>87</td>\n",
       "      <td>105</td>\n",
       "      <td>107</td>\n",
       "      <td>118</td>\n",
       "      <td>...</td>\n",
       "      <td>147</td>\n",
       "      <td>158</td>\n",
       "      <td>194</td>\n",
       "      <td>187</td>\n",
       "      <td>210</td>\n",
       "      <td>254</td>\n",
       "      <td>218</td>\n",
       "      <td>278</td>\n",
       "      <td>253</td>\n",
       "      <td>291</td>\n",
       "    </tr>\n",
       "    <tr>\n",
       "      <th>1</th>\n",
       "      <td>10</td>\n",
       "      <td>14</td>\n",
       "      <td>31</td>\n",
       "      <td>44</td>\n",
       "      <td>54</td>\n",
       "      <td>74</td>\n",
       "      <td>89</td>\n",
       "      <td>97</td>\n",
       "      <td>114</td>\n",
       "      <td>129</td>\n",
       "      <td>...</td>\n",
       "      <td>166</td>\n",
       "      <td>186</td>\n",
       "      <td>171</td>\n",
       "      <td>211</td>\n",
       "      <td>222</td>\n",
       "      <td>237</td>\n",
       "      <td>249</td>\n",
       "      <td>255</td>\n",
       "      <td>291</td>\n",
       "      <td>293</td>\n",
       "    </tr>\n",
       "    <tr>\n",
       "      <th>2</th>\n",
       "      <td>10</td>\n",
       "      <td>14</td>\n",
       "      <td>29</td>\n",
       "      <td>45</td>\n",
       "      <td>58</td>\n",
       "      <td>73</td>\n",
       "      <td>92</td>\n",
       "      <td>109</td>\n",
       "      <td>111</td>\n",
       "      <td>115</td>\n",
       "      <td>...</td>\n",
       "      <td>152</td>\n",
       "      <td>156</td>\n",
       "      <td>169</td>\n",
       "      <td>209</td>\n",
       "      <td>211</td>\n",
       "      <td>217</td>\n",
       "      <td>236</td>\n",
       "      <td>285</td>\n",
       "      <td>296</td>\n",
       "      <td>259</td>\n",
       "    </tr>\n",
       "  </tbody>\n",
       "</table>\n",
       "<p>3 rows × 21 columns</p>\n",
       "</div>"
      ],
      "text/plain": [
       "    0   1   2   3   4   5   6    7    8    9 ...    11   12   13   14   15  \\\n",
       "0  10  14  29  45  53  76  87  105  107  118 ...   147  158  194  187  210   \n",
       "1  10  14  31  44  54  74  89   97  114  129 ...   166  186  171  211  222   \n",
       "2  10  14  29  45  58  73  92  109  111  115 ...   152  156  169  209  211   \n",
       "\n",
       "    16   17   18   19   20  \n",
       "0  254  218  278  253  291  \n",
       "1  237  249  255  291  293  \n",
       "2  217  236  285  296  259  \n",
       "\n",
       "[3 rows x 21 columns]"
      ]
     },
     "execution_count": 11,
     "metadata": {},
     "output_type": "execute_result"
    }
   ],
   "source": [
    "df = pd.DataFrame()\n",
    "for i in range(1,21):\n",
    "    cps = [compute_CP(i) for a in range(10000)]\n",
    "    df[str(i)] = cps\n",
    "df.head(3)"
   ]
  },
  {
   "cell_type": "code",
   "execution_count": 12,
   "metadata": {},
   "outputs": [
    {
     "data": {
      "text/plain": [
       "<matplotlib.axes._subplots.AxesSubplot at 0x7f9a062f40f0>"
      ]
     },
     "execution_count": 12,
     "metadata": {},
     "output_type": "execute_result"
    },
    {
     "data": {
      "image/png": "[encoded data removed]",
      "text/plain": [
       "<matplotlib.figure.Figure at 0x7f9a06915780>"
      ]
     },
     "metadata": {},
     "output_type": "display_data"
    }
   ],
   "source": [
    "sns.boxplot(data=df)"
   ]
  },
  {
   "cell_type": "code",
   "execution_count": null,
   "metadata": {
    "collapsed": true
   },
   "outputs": [],
   "source": []
  }
 ],
 "metadata": {
  "kernelspec": {
   "display_name": "Python 3",
   "language": "python",
   "name": "python3"
  },
  "language_info": {
   "codemirror_mode": {
    "name": "ipython",
    "version": 3
   },
   "file_extension": ".py",
   "mimetype": "text/x-python",
   "name": "python",
   "nbconvert_exporter": "python",
   "pygments_lexer": "ipython3",
   "version": "3.5.2"
  }
 },
 "nbformat": 4,
 "nbformat_minor": 2
}
