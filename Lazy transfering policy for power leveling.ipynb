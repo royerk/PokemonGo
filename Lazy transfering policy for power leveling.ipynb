{
 "cells": [
  {
   "cell_type": "code",
   "execution_count": 1,
   "metadata": {
    "collapsed": true
   },
   "outputs": [],
   "source": [
    "import seaborn as sns\n",
    "import matplotlib.pyplot as plt\n",
    "\n",
    "import pandas as pd\n",
    "\n",
    "from math import sqrt, floor\n",
    "from random import randint\n",
    "\n",
    "%matplotlib inline\n",
    "sns.set(style=\"ticks\")"
   ]
  },
  {
   "cell_type": "code",
   "execution_count": 2,
   "metadata": {
    "collapsed": true
   },
   "outputs": [],
   "source": [
    "def compute_CP(level):\n",
    "    base_stamina = 80\n",
    "    base_attack = 85\n",
    "    base_defense = 76\n",
    "    \n",
    "    total_cp_multiplier = 0.095 * sqrt(level*2)\n",
    "    \n",
    "    stamina = (base_stamina + randint(0,15)) * total_cp_multiplier\n",
    "    attack = (base_attack + randint(0,15)) * total_cp_multiplier\n",
    "    defense = (base_defense + randint(0,15)) * total_cp_multiplier\n",
    "    \n",
    "    cp = max(10, floor(sqrt(stamina) * attack * sqrt(defense) / 10))\n",
    "    return cp"
   ]
  },
  {
   "cell_type": "code",
   "execution_count": 7,
   "metadata": {
    "collapsed": true
   },
   "outputs": [],
   "source": [
    "def my_range(start, end, step):\n",
    "    while start <= end:\n",
    "        yield start\n",
    "        start += step"
   ]
  },
  {
   "cell_type": "code",
   "execution_count": 8,
   "metadata": {},
   "outputs": [],
   "source": [
    "cp_all = []\n",
    "n_random_mon = 10000\n",
    "for level in my_range(1, 20+1, step=0.5):\n",
    "    for i in range(n_random_mon):\n",
    "        cp_all.append(compute_CP(level))"
   ]
  },
  {
   "cell_type": "code",
   "execution_count": 11,
   "metadata": {},
   "outputs": [
    {
     "data": {
      "text/plain": [
       "<matplotlib.axes._subplots.AxesSubplot at 0x7fdfce724a90>"
      ]
     },
     "execution_count": 11,
     "metadata": {},
     "output_type": "execute_result"
    },
    {
     "data": {
      "image/png": "[encoded data removed]",
      "text/plain": [
       "<matplotlib.figure.Figure at 0x7fdfce6db400>"
      ]
     },
     "metadata": {},
     "output_type": "display_data"
    }
   ],
   "source": [
    "sns.distplot(cp_all, axlabel=\"CP\")"
   ]
  },
  {
   "cell_type": "code",
   "execution_count": 13,
   "metadata": {},
   "outputs": [
    {
     "name": "stdout",
     "output_type": "stream",
     "text": [
      "To make 75 evolutions you need 825 candies.\n"
     ]
    }
   ],
   "source": [
    "n_evolutions = 75\n",
    "n_candies = 75 * 12 - 75 # an evolution brings a candy, no time to transfer\n",
    "print(\"To make {} evolutions you need {} candies.\".format(n_evolutions, n_candies))"
   ]
  },
  {
   "cell_type": "code",
   "execution_count": 14,
   "metadata": {
    "collapsed": true
   },
   "outputs": [],
   "source": [
    "min_cp = 10\n",
    "max_cp = 265 # arbitrary value based on looking to the previous graph"
   ]
  },
  {
   "cell_type": "code",
   "execution_count": 15,
   "metadata": {},
   "outputs": [
    {
     "name": "stdout",
     "output_type": "stream",
     "text": [
      "With ananas => keep 1 (6 candies), transfer 1 (7 candies).\n",
      "Homogeneous distribution of cps between 10 and 265 => keep below cp 138 else transfer.\n"
     ]
    }
   ],
   "source": [
    "keep = 1\n",
    "transfer = 1\n",
    "print('With ananas => keep {} ({} candies), transfer {} ({} candies).'.format(keep,\n",
    "                                                                              keep*6,\n",
    "                                                                              transfer,\n",
    "                                                                              transfer*6+transfer))\n",
    "ratio = 1 - transfer / (keep+transfer)\n",
    "print(\"Homogeneous distribution of cps between {} and {} => keep below cp {} else transfer.\".format(min_cp, \n",
    "                                                                                                 max_cp, \n",
    "                                                                                                 round((min_cp+max_cp)*ratio)))"
   ]
  },
  {
   "cell_type": "code",
   "execution_count": 16,
   "metadata": {},
   "outputs": [
    {
     "name": "stdout",
     "output_type": "stream",
     "text": [
      "Without ananas => keep 1 (3 candies), transfer 3 (12 candies).\n",
      "Homogeneous distribution of cps between 10 and 265 => keep below cp 69 else transfer.\n"
     ]
    }
   ],
   "source": [
    "keep = 1\n",
    "transfer = 3\n",
    "print('Without ananas => keep {} ({} candies), transfer {} ({} candies).'.format(keep,\n",
    "                                                                                keep*3,\n",
    "                                                                                transfer,\n",
    "                                                                                transfer*3+transfer))\n",
    "ratio = 1 - transfer / (keep+transfer)\n",
    "print(\"Homogeneous distribution of cps between {} and {} => keep below cp {} else transfer.\".format(min_cp, \n",
    "                                                                                                 max_cp, \n",
    "                                                                                                 round((min_cp+max_cp)*ratio)))"
   ]
  },
  {
   "cell_type": "code",
   "execution_count": 18,
   "metadata": {},
   "outputs": [
    {
     "data": {
      "text/html": [
       "<div>\n",
       "<style>\n",
       "    .dataframe thead tr:only-child th {\n",
       "        text-align: right;\n",
       "    }\n",
       "\n",
       "    .dataframe thead th {\n",
       "        text-align: left;\n",
       "    }\n",
       "\n",
       "    .dataframe tbody tr th {\n",
       "        vertical-align: top;\n",
       "    }\n",
       "</style>\n",
       "<table border=\"1\" class=\"dataframe\">\n",
       "  <thead>\n",
       "    <tr style=\"text-align: right;\">\n",
       "      <th></th>\n",
       "      <th>1</th>\n",
       "      <th>1.5</th>\n",
       "      <th>2.0</th>\n",
       "      <th>2.5</th>\n",
       "      <th>3.0</th>\n",
       "      <th>3.5</th>\n",
       "      <th>4.0</th>\n",
       "      <th>4.5</th>\n",
       "      <th>5.0</th>\n",
       "      <th>5.5</th>\n",
       "      <th>...</th>\n",
       "      <th>16.5</th>\n",
       "      <th>17.0</th>\n",
       "      <th>17.5</th>\n",
       "      <th>18.0</th>\n",
       "      <th>18.5</th>\n",
       "      <th>19.0</th>\n",
       "      <th>19.5</th>\n",
       "      <th>20.0</th>\n",
       "      <th>20.5</th>\n",
       "      <th>21.0</th>\n",
       "    </tr>\n",
       "  </thead>\n",
       "  <tbody>\n",
       "    <tr>\n",
       "      <th>0</th>\n",
       "      <td>16</td>\n",
       "      <td>22</td>\n",
       "      <td>29</td>\n",
       "      <td>34</td>\n",
       "      <td>44</td>\n",
       "      <td>53</td>\n",
       "      <td>56</td>\n",
       "      <td>64</td>\n",
       "      <td>73</td>\n",
       "      <td>85</td>\n",
       "      <td>...</td>\n",
       "      <td>265</td>\n",
       "      <td>228</td>\n",
       "      <td>238</td>\n",
       "      <td>292</td>\n",
       "      <td>249</td>\n",
       "      <td>288</td>\n",
       "      <td>263</td>\n",
       "      <td>296</td>\n",
       "      <td>303</td>\n",
       "      <td>295</td>\n",
       "    </tr>\n",
       "    <tr>\n",
       "      <th>1</th>\n",
       "      <td>13</td>\n",
       "      <td>23</td>\n",
       "      <td>29</td>\n",
       "      <td>33</td>\n",
       "      <td>41</td>\n",
       "      <td>51</td>\n",
       "      <td>61</td>\n",
       "      <td>62</td>\n",
       "      <td>65</td>\n",
       "      <td>77</td>\n",
       "      <td>...</td>\n",
       "      <td>239</td>\n",
       "      <td>233</td>\n",
       "      <td>274</td>\n",
       "      <td>247</td>\n",
       "      <td>250</td>\n",
       "      <td>276</td>\n",
       "      <td>283</td>\n",
       "      <td>312</td>\n",
       "      <td>314</td>\n",
       "      <td>303</td>\n",
       "    </tr>\n",
       "    <tr>\n",
       "      <th>2</th>\n",
       "      <td>13</td>\n",
       "      <td>23</td>\n",
       "      <td>26</td>\n",
       "      <td>32</td>\n",
       "      <td>42</td>\n",
       "      <td>54</td>\n",
       "      <td>60</td>\n",
       "      <td>61</td>\n",
       "      <td>73</td>\n",
       "      <td>82</td>\n",
       "      <td>...</td>\n",
       "      <td>236</td>\n",
       "      <td>256</td>\n",
       "      <td>231</td>\n",
       "      <td>237</td>\n",
       "      <td>246</td>\n",
       "      <td>259</td>\n",
       "      <td>276</td>\n",
       "      <td>263</td>\n",
       "      <td>276</td>\n",
       "      <td>313</td>\n",
       "    </tr>\n",
       "  </tbody>\n",
       "</table>\n",
       "<p>3 rows × 41 columns</p>\n",
       "</div>"
      ],
      "text/plain": [
       "    1  1.5  2.0  2.5  3.0  3.5  4.0  4.5  5.0  5.5  ...   16.5  17.0  17.5  \\\n",
       "0  16   22   29   34   44   53   56   64   73   85  ...    265   228   238   \n",
       "1  13   23   29   33   41   51   61   62   65   77  ...    239   233   274   \n",
       "2  13   23   26   32   42   54   60   61   73   82  ...    236   256   231   \n",
       "\n",
       "   18.0  18.5  19.0  19.5  20.0  20.5  21.0  \n",
       "0   292   249   288   263   296   303   295  \n",
       "1   247   250   276   283   312   314   303  \n",
       "2   237   246   259   276   263   276   313  \n",
       "\n",
       "[3 rows x 41 columns]"
      ]
     },
     "execution_count": 18,
     "metadata": {},
     "output_type": "execute_result"
    }
   ],
   "source": [
    "df = pd.DataFrame()\n",
    "for i in my_range(1, 20+1, 0.5):\n",
    "    cps = [compute_CP(i) for a in range(10000)]\n",
    "    df[str(i)] = cps\n",
    "df.head(3)"
   ]
  },
  {
   "cell_type": "code",
   "execution_count": 19,
   "metadata": {},
   "outputs": [
    {
     "data": {
      "text/plain": [
       "<matplotlib.axes._subplots.AxesSubplot at 0x7fdfce5b25c0>"
      ]
     },
     "execution_count": 19,
     "metadata": {},
     "output_type": "execute_result"
    },
    {
     "data": {
      "image/png": "[encoded data removed]",
      "text/plain": [
       "<matplotlib.figure.Figure at 0x7fdfce882e48>"
      ]
     },
     "metadata": {},
     "output_type": "display_data"
    }
   ],
   "source": [
    "sns.boxplot(data=df)"
   ]
  },
  {
   "cell_type": "markdown",
   "metadata": {
    "collapsed": true
   },
   "source": [
    "# /!\\\n",
    "\n",
    "Pidgey with CP 444 can be found so there is necessarly a mistake in the CP calculation function (probably the total cp multiplier)."
   ]
  },
  {
   "cell_type": "code",
   "execution_count": null,
   "metadata": {
    "collapsed": true
   },
   "outputs": [],
   "source": []
  }
 ],
 "metadata": {
  "kernelspec": {
   "display_name": "Python 3",
   "language": "python",
   "name": "python3"
  },
  "language_info": {
   "codemirror_mode": {
    "name": "ipython",
    "version": 3
   },
   "file_extension": ".py",
   "mimetype": "text/x-python",
   "name": "python",
   "nbconvert_exporter": "python",
   "pygments_lexer": "ipython3",
   "version": "3.5.2"
  }
 },
 "nbformat": 4,
 "nbformat_minor": 2
}
