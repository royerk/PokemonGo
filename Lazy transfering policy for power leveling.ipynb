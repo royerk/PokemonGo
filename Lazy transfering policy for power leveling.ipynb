{
 "cells": [
  {
   "cell_type": "code",
   "execution_count": 1,
   "metadata": {
    "collapsed": true
   },
   "outputs": [],
   "source": [
    "import seaborn as sns\n",
    "import matplotlib.pyplot as plt\n",
    "\n",
    "import pandas as pd\n",
    "\n",
    "from math import sqrt, floor\n",
    "from random import randint\n",
    "\n",
    "%matplotlib inline\n",
    "sns.set(style=\"ticks\")"
   ]
  },
  {
   "cell_type": "markdown",
   "metadata": {},
   "source": [
    "## CP multiplier"
   ]
  },
  {
   "cell_type": "code",
   "execution_count": 2,
   "metadata": {},
   "outputs": [
    {
     "data": {
      "text/html": [
       "<div>\n",
       "<style>\n",
       "    .dataframe thead tr:only-child th {\n",
       "        text-align: right;\n",
       "    }\n",
       "\n",
       "    .dataframe thead th {\n",
       "        text-align: left;\n",
       "    }\n",
       "\n",
       "    .dataframe tbody tr th {\n",
       "        vertical-align: top;\n",
       "    }\n",
       "</style>\n",
       "<table border=\"1\" class=\"dataframe\">\n",
       "  <thead>\n",
       "    <tr style=\"text-align: right;\">\n",
       "      <th></th>\n",
       "      <th>level</th>\n",
       "      <th>cpm</th>\n",
       "    </tr>\n",
       "  </thead>\n",
       "  <tbody>\n",
       "    <tr>\n",
       "      <th>0</th>\n",
       "      <td>1.0</td>\n",
       "      <td>0.094000</td>\n",
       "    </tr>\n",
       "    <tr>\n",
       "      <th>1</th>\n",
       "      <td>1.5</td>\n",
       "      <td>0.135137</td>\n",
       "    </tr>\n",
       "  </tbody>\n",
       "</table>\n",
       "</div>"
      ],
      "text/plain": [
       "   level       cpm\n",
       "0    1.0  0.094000\n",
       "1    1.5  0.135137"
      ]
     },
     "execution_count": 2,
     "metadata": {},
     "output_type": "execute_result"
    }
   ],
   "source": [
    "# from: https://pokemongo.gamepress.gg/cp-multiplier\n",
    "df_cpm = pd.read_csv(\"cpm.csv\")\n",
    "df_cpm.head(2)"
   ]
  },
  {
   "cell_type": "code",
   "execution_count": 3,
   "metadata": {},
   "outputs": [
    {
     "data": {
      "text/plain": [
       "[<matplotlib.lines.Line2D at 0x7fbe0eb17ef0>]"
      ]
     },
     "execution_count": 3,
     "metadata": {},
     "output_type": "execute_result"
    },
    {
     "data": {
      "image/png": "[encoded data removed]",
      "text/plain": [
       "<matplotlib.figure.Figure at 0x7fbdd1c144e0>"
      ]
     },
     "metadata": {},
     "output_type": "display_data"
    }
   ],
   "source": [
    "plt.plot(df_cpm[\"level\"], df_cpm[\"cpm\"])"
   ]
  },
  {
   "cell_type": "code",
   "execution_count": 4,
   "metadata": {
    "collapsed": true
   },
   "outputs": [],
   "source": [
    "df_cpm = df_cpm.set_index(\"level\")"
   ]
  },
  {
   "cell_type": "code",
   "execution_count": 5,
   "metadata": {},
   "outputs": [
    {
     "data": {
      "text/html": [
       "<div>\n",
       "<style>\n",
       "    .dataframe thead tr:only-child th {\n",
       "        text-align: right;\n",
       "    }\n",
       "\n",
       "    .dataframe thead th {\n",
       "        text-align: left;\n",
       "    }\n",
       "\n",
       "    .dataframe tbody tr th {\n",
       "        vertical-align: top;\n",
       "    }\n",
       "</style>\n",
       "<table border=\"1\" class=\"dataframe\">\n",
       "  <thead>\n",
       "    <tr style=\"text-align: right;\">\n",
       "      <th></th>\n",
       "      <th>cpm</th>\n",
       "    </tr>\n",
       "    <tr>\n",
       "      <th>level</th>\n",
       "      <th></th>\n",
       "    </tr>\n",
       "  </thead>\n",
       "  <tbody>\n",
       "    <tr>\n",
       "      <th>1.0</th>\n",
       "      <td>0.094000</td>\n",
       "    </tr>\n",
       "    <tr>\n",
       "      <th>1.5</th>\n",
       "      <td>0.135137</td>\n",
       "    </tr>\n",
       "    <tr>\n",
       "      <th>2.0</th>\n",
       "      <td>0.166398</td>\n",
       "    </tr>\n",
       "  </tbody>\n",
       "</table>\n",
       "</div>"
      ],
      "text/plain": [
       "            cpm\n",
       "level          \n",
       "1.0    0.094000\n",
       "1.5    0.135137\n",
       "2.0    0.166398"
      ]
     },
     "execution_count": 5,
     "metadata": {},
     "output_type": "execute_result"
    }
   ],
   "source": [
    "df_cpm.head(3)"
   ]
  },
  {
   "cell_type": "code",
   "execution_count": 6,
   "metadata": {
    "collapsed": true
   },
   "outputs": [],
   "source": [
    "def cpm(level):\n",
    "    return float(df_cpm.loc[level])"
   ]
  },
  {
   "cell_type": "markdown",
   "metadata": {},
   "source": [
    "## Calculate CP\n",
    "\n",
    "Warning:\n",
    "- different sources give different base values\n",
    "- max calculated CP is way below max CP found (eg: Pidgey CP 444, where the model gives CP 331/388)"
   ]
  },
  {
   "cell_type": "code",
   "execution_count": 7,
   "metadata": {
    "collapsed": true
   },
   "outputs": [],
   "source": [
    "# from: https://www.reddit.com/r/TheSilphRoad/comments/4t7r4d/exact_pokemon_cp_formula/\n",
    "# and: https://pokemongo.gamepress.gg/pokemon-stats-advanced\n",
    "# base values: https://gist.github.com/anonymous/540700108cf0f051e11f70273e9e2590\n",
    "def compute_CP(level, iv_att=-1, iv_def=-1, iv_sta=-1):\n",
    "    base_stamina = 80\n",
    "    base_attack =  94\n",
    "    base_defense = 90\n",
    "    \n",
    "    total_cp_multiplier = cpm(level)\n",
    "\n",
    "    if iv_sta == -1:\n",
    "        iv_sta = randint(0,15)\n",
    "    if iv_def == -1:\n",
    "        iv_def = randint(0,15)\n",
    "    if iv_att == -1:\n",
    "        iv_att = randint(0,15)\n",
    "        \n",
    "    stamina = (base_stamina + iv_sta) * total_cp_multiplier\n",
    "    attack =  (base_attack + iv_att) * total_cp_multiplier\n",
    "    defense = (base_defense + iv_def) * total_cp_multiplier\n",
    "    \n",
    "    cp = attack * sqrt(defense) * sqrt(stamina)  / 10\n",
    "    \n",
    "    return max(10, int(cp))"
   ]
  },
  {
   "cell_type": "code",
   "execution_count": 8,
   "metadata": {},
   "outputs": [
    {
     "data": {
      "text/plain": [
       "388"
      ]
     },
     "execution_count": 8,
     "metadata": {},
     "output_type": "execute_result"
    }
   ],
   "source": [
    "# Max possible:\n",
    "compute_CP(20, iv_att=15, iv_def=15, iv_sta=15)"
   ]
  },
  {
   "cell_type": "code",
   "execution_count": 9,
   "metadata": {
    "collapsed": true
   },
   "outputs": [],
   "source": [
    "def my_range(start, end, step):\n",
    "    while start <= end:\n",
    "        yield start\n",
    "        start += step"
   ]
  },
  {
   "cell_type": "code",
   "execution_count": 10,
   "metadata": {
    "collapsed": true
   },
   "outputs": [],
   "source": [
    "cp_all = []\n",
    "n_random_mon = 10000\n",
    "for level in my_range(1, 20, step=0.5):\n",
    "    for i in range(n_random_mon):\n",
    "        cp_all.append(compute_CP(level))"
   ]
  },
  {
   "cell_type": "code",
   "execution_count": 11,
   "metadata": {},
   "outputs": [
    {
     "data": {
      "text/plain": [
       "<matplotlib.axes._subplots.AxesSubplot at 0x7fbdcf70e048>"
      ]
     },
     "execution_count": 11,
     "metadata": {},
     "output_type": "execute_result"
    },
    {
     "data": {
      "image/png": "[encoded data removed]",
      "text/plain": [
       "<matplotlib.figure.Figure at 0x7fbdcf8e7eb8>"
      ]
     },
     "metadata": {},
     "output_type": "display_data"
    }
   ],
   "source": [
    "sns.distplot(cp_all, axlabel=\"CP\")"
   ]
  },
  {
   "cell_type": "markdown",
   "metadata": {},
   "source": [
    "## CP threshold to keep or transfer"
   ]
  },
  {
   "cell_type": "code",
   "execution_count": 12,
   "metadata": {},
   "outputs": [
    {
     "name": "stdout",
     "output_type": "stream",
     "text": [
      "To make 75 evolutions you need 825 candies.\n"
     ]
    }
   ],
   "source": [
    "n_evolutions = 75\n",
    "required_candies = 12\n",
    "n_candies = n_evolutions * (required_candies - 1) # an evolution brings a candy, no time to transfer\n",
    "print(\"To make {} evolutions you need {} candies.\".format(n_evolutions, n_candies))"
   ]
  },
  {
   "cell_type": "code",
   "execution_count": 19,
   "metadata": {
    "collapsed": true
   },
   "outputs": [],
   "source": [
    "min_cp = 10\n",
    "max_cp = 310 # arbitrary value based on looking to the previous graph"
   ]
  },
  {
   "cell_type": "code",
   "execution_count": 20,
   "metadata": {},
   "outputs": [
    {
     "name": "stdout",
     "output_type": "stream",
     "text": [
      "With ananas => keep 1 (6 candies), transfer 1 (7 candies).\n",
      "Homogeneous distribution of cps between 10 and 310 => keep below cp 160 else transfer.\n"
     ]
    }
   ],
   "source": [
    "keep = 1\n",
    "transfer = 1\n",
    "print('With ananas => keep {} ({} candies), transfer {} ({} candies).'.format(keep,\n",
    "                                                                              keep*6,\n",
    "                                                                              transfer,\n",
    "                                                                              transfer*6+transfer))\n",
    "ratio = 1 - transfer / (keep+transfer)\n",
    "print(\"Homogeneous distribution of cps between {} and {} => keep below cp {} else transfer.\".format(min_cp, \n",
    "                                                                                                 max_cp, \n",
    "                                                                                                 round((min_cp+max_cp)*ratio)))"
   ]
  },
  {
   "cell_type": "code",
   "execution_count": 22,
   "metadata": {},
   "outputs": [
    {
     "name": "stdout",
     "output_type": "stream",
     "text": [
      "Without ananas => keep 1 (3 candies), transfer 3 (12 candies).\n",
      "Homogeneous distribution of cps between 10 and 310 => keep below cp 80 else transfer.\n",
      "Homogeneous distribution of cps between 10 and 310 => keep above cp 240 else transfer.\n"
     ]
    }
   ],
   "source": [
    "keep = 1\n",
    "transfer = 3\n",
    "print('Without ananas => keep {} ({} candies), transfer {} ({} candies).'.format(keep,\n",
    "                                                                                keep*3,\n",
    "                                                                                transfer,\n",
    "                                                                                transfer*3+transfer))\n",
    "ratio = 1 - transfer / (keep+transfer)\n",
    "print(\"Homogeneous distribution of cps between {} and {} => keep below cp {} else transfer.\".format(min_cp, \n",
    "                                                                                                 max_cp, \n",
    "                                                                                                 round((min_cp+max_cp)*ratio)))\n",
    "ratio = 1 - ratio\n",
    "print(\"Homogeneous distribution of cps between {} and {} => keep above cp {} else transfer.\".format(min_cp, \n",
    "                                                                                                 max_cp, \n",
    "                                                                                                 round((min_cp+max_cp)*ratio)))"
   ]
  },
  {
   "cell_type": "markdown",
   "metadata": {},
   "source": [
    "## CP distribution per level"
   ]
  },
  {
   "cell_type": "code",
   "execution_count": 16,
   "metadata": {},
   "outputs": [
    {
     "data": {
      "text/html": [
       "<div>\n",
       "<style>\n",
       "    .dataframe thead tr:only-child th {\n",
       "        text-align: right;\n",
       "    }\n",
       "\n",
       "    .dataframe thead th {\n",
       "        text-align: left;\n",
       "    }\n",
       "\n",
       "    .dataframe tbody tr th {\n",
       "        vertical-align: top;\n",
       "    }\n",
       "</style>\n",
       "<table border=\"1\" class=\"dataframe\">\n",
       "  <thead>\n",
       "    <tr style=\"text-align: right;\">\n",
       "      <th></th>\n",
       "      <th>1</th>\n",
       "      <th>1.5</th>\n",
       "      <th>2.0</th>\n",
       "      <th>2.5</th>\n",
       "      <th>3.0</th>\n",
       "      <th>3.5</th>\n",
       "      <th>4.0</th>\n",
       "      <th>4.5</th>\n",
       "      <th>5.0</th>\n",
       "      <th>5.5</th>\n",
       "      <th>...</th>\n",
       "      <th>15.5</th>\n",
       "      <th>16.0</th>\n",
       "      <th>16.5</th>\n",
       "      <th>17.0</th>\n",
       "      <th>17.5</th>\n",
       "      <th>18.0</th>\n",
       "      <th>18.5</th>\n",
       "      <th>19.0</th>\n",
       "      <th>19.5</th>\n",
       "      <th>20.0</th>\n",
       "    </tr>\n",
       "  </thead>\n",
       "  <tbody>\n",
       "    <tr>\n",
       "      <th>0</th>\n",
       "      <td>10</td>\n",
       "      <td>16</td>\n",
       "      <td>26</td>\n",
       "      <td>38</td>\n",
       "      <td>48</td>\n",
       "      <td>52</td>\n",
       "      <td>60</td>\n",
       "      <td>71</td>\n",
       "      <td>82</td>\n",
       "      <td>92</td>\n",
       "      <td>...</td>\n",
       "      <td>245</td>\n",
       "      <td>283</td>\n",
       "      <td>265</td>\n",
       "      <td>300</td>\n",
       "      <td>278</td>\n",
       "      <td>261</td>\n",
       "      <td>317</td>\n",
       "      <td>347</td>\n",
       "      <td>308</td>\n",
       "      <td>311</td>\n",
       "    </tr>\n",
       "    <tr>\n",
       "      <th>1</th>\n",
       "      <td>10</td>\n",
       "      <td>16</td>\n",
       "      <td>25</td>\n",
       "      <td>36</td>\n",
       "      <td>44</td>\n",
       "      <td>56</td>\n",
       "      <td>59</td>\n",
       "      <td>71</td>\n",
       "      <td>83</td>\n",
       "      <td>94</td>\n",
       "      <td>...</td>\n",
       "      <td>274</td>\n",
       "      <td>300</td>\n",
       "      <td>300</td>\n",
       "      <td>285</td>\n",
       "      <td>295</td>\n",
       "      <td>279</td>\n",
       "      <td>292</td>\n",
       "      <td>343</td>\n",
       "      <td>363</td>\n",
       "      <td>314</td>\n",
       "    </tr>\n",
       "    <tr>\n",
       "      <th>2</th>\n",
       "      <td>10</td>\n",
       "      <td>18</td>\n",
       "      <td>26</td>\n",
       "      <td>34</td>\n",
       "      <td>44</td>\n",
       "      <td>54</td>\n",
       "      <td>65</td>\n",
       "      <td>76</td>\n",
       "      <td>77</td>\n",
       "      <td>89</td>\n",
       "      <td>...</td>\n",
       "      <td>272</td>\n",
       "      <td>266</td>\n",
       "      <td>289</td>\n",
       "      <td>308</td>\n",
       "      <td>304</td>\n",
       "      <td>341</td>\n",
       "      <td>302</td>\n",
       "      <td>310</td>\n",
       "      <td>330</td>\n",
       "      <td>335</td>\n",
       "    </tr>\n",
       "  </tbody>\n",
       "</table>\n",
       "<p>3 rows × 39 columns</p>\n",
       "</div>"
      ],
      "text/plain": [
       "    1  1.5  2.0  2.5  3.0  3.5  4.0  4.5  5.0  5.5  ...   15.5  16.0  16.5  \\\n",
       "0  10   16   26   38   48   52   60   71   82   92  ...    245   283   265   \n",
       "1  10   16   25   36   44   56   59   71   83   94  ...    274   300   300   \n",
       "2  10   18   26   34   44   54   65   76   77   89  ...    272   266   289   \n",
       "\n",
       "   17.0  17.5  18.0  18.5  19.0  19.5  20.0  \n",
       "0   300   278   261   317   347   308   311  \n",
       "1   285   295   279   292   343   363   314  \n",
       "2   308   304   341   302   310   330   335  \n",
       "\n",
       "[3 rows x 39 columns]"
      ]
     },
     "execution_count": 16,
     "metadata": {},
     "output_type": "execute_result"
    }
   ],
   "source": [
    "df = pd.DataFrame()\n",
    "all_values = []\n",
    "for i in my_range(1, 20, 0.5):\n",
    "    cps = [compute_CP(i) for a in range(10000)]\n",
    "    all_values = all_values + cps\n",
    "    df[str(i)] = cps\n",
    "df.head(3)"
   ]
  },
  {
   "cell_type": "code",
   "execution_count": 17,
   "metadata": {},
   "outputs": [
    {
     "data": {
      "text/plain": [
       "<matplotlib.axes._subplots.AxesSubplot at 0x7fbdcf51bbe0>"
      ]
     },
     "execution_count": 17,
     "metadata": {},
     "output_type": "execute_result"
    },
    {
     "data": {
      "image/png": "[encoded data removed]",
      "text/plain": [
       "<matplotlib.figure.Figure at 0x7fbdcf52e860>"
      ]
     },
     "metadata": {},
     "output_type": "display_data"
    }
   ],
   "source": [
    "# for fun\n",
    "sns.boxplot(data=df)"
   ]
  },
  {
   "cell_type": "markdown",
   "metadata": {
    "collapsed": true
   },
   "source": [
    "## KISS\n",
    "\n",
    "If keeping 1 out of 2, why not keeping odd CP values only?"
   ]
  },
  {
   "cell_type": "code",
   "execution_count": 18,
   "metadata": {},
   "outputs": [
    {
     "data": {
      "text/plain": [
       "(190061, 390000, '48%')"
      ]
     },
     "execution_count": 18,
     "metadata": {},
     "output_type": "execute_result"
    }
   ],
   "source": [
    "odd_count = 0\n",
    "for cp in all_values:\n",
    "    if cp%2==1:\n",
    "        odd_count += 1\n",
    "odd_count, len(all_values), str(int(odd_count/len(all_values)*100))+'%'"
   ]
  },
  {
   "cell_type": "markdown",
   "metadata": {},
   "source": [
    "Yep, it would work ! But it's less glorious ;-)"
   ]
  },
  {
   "cell_type": "code",
   "execution_count": null,
   "metadata": {
    "collapsed": true
   },
   "outputs": [],
   "source": []
  }
 ],
 "metadata": {
  "kernelspec": {
   "display_name": "Python 3",
   "language": "python",
   "name": "python3"
  },
  "language_info": {
   "codemirror_mode": {
    "name": "ipython",
    "version": 3
   },
   "file_extension": ".py",
   "mimetype": "text/x-python",
   "name": "python",
   "nbconvert_exporter": "python",
   "pygments_lexer": "ipython3",
   "version": "3.5.2"
  }
 },
 "nbformat": 4,
 "nbformat_minor": 2
}
